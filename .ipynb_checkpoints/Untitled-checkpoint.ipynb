{
 "cells": [
  {
   "cell_type": "code",
   "execution_count": null,
   "metadata": {},
   "outputs": [],
   "source": [
    "# Metodologia\n",
    "## Descripción de los Datos\n",
    "A continuación una descripción breve de los datos, la pagina de donde fueron extraidos.\n",
    "\n",
    "## Análisis preliminar\n",
    "Este análisis se hace por medio de lenguaje de programación <b>Python</b>, haciendo uso de el paquete de análisis de texto <b>textblob</b>.\n",
    "1. Se filtran los datos con etiqueta de \"Food\".\\\n",
    "Lo anterior con el objetivo de tener todas la imagenes relacionadas con comida\n",
    "2. Luego se busca hacer el renocimiento de las frecuencias de palabras, ademas de un diciconario conocer cual es la cantidad de palabras que tiene los comentarios de cada foto.\n"
   ]
  }
 ],
 "metadata": {
  "kernelspec": {
   "display_name": "Python 3",
   "language": "python",
   "name": "python3"
  },
  "language_info": {
   "codemirror_mode": {
    "name": "ipython",
    "version": 3
   },
   "file_extension": ".py",
   "mimetype": "text/x-python",
   "name": "python",
   "nbconvert_exporter": "python",
   "pygments_lexer": "ipython3",
   "version": "3.7.4"
  }
 },
 "nbformat": 4,
 "nbformat_minor": 2
}
